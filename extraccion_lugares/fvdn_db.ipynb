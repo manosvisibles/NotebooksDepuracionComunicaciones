{
 "cells": [
  {
   "cell_type": "code",
   "execution_count": 1,
   "metadata": {},
   "outputs": [],
   "source": [
    "import pandas as pd\n",
    "import unicodedata\n",
    "import re\n",
    "import os"
   ]
  },
  {
   "cell_type": "code",
   "execution_count": 4,
   "metadata": {},
   "outputs": [],
   "source": [
    "def normalize_string(text):\n",
    "    \"\"\"Elimina caracteres especiales y convierte el texto a minúsculas.\"\"\"\n",
    "    text = str(text)\n",
    "    text = unicodedata.normalize('NFD', text)\n",
    "    text = ''.join(c for c in text if unicodedata.category(c) != 'Mn')\n",
    "    return re.sub(r'[^a-z0-9\\s]', '', text.lower()).strip()\n",
    "\n",
    "class SheetData:\n",
    "    def __init__(self, data_path: str, sheet_name: str, name_column: str, email_column: str) -> None:\n",
    "        self.sheet_name = sheet_name\n",
    "        self._df = pd.read_excel(data_path, sheet_name=sheet_name)\n",
    "        self.name_column = name_column\n",
    "        self.email_column = email_column\n",
    "        self.filter_column = None\n",
    "        self._columns = {\n",
    "            name_column: \"Nombre\",\n",
    "            email_column: \"Correo\"\n",
    "        }\n",
    "    \n",
    "    def set_filter_column(self, column: str) -> None:\n",
    "        self.filter_column = column\n",
    "    \n",
    "    def filter(self, category: str, options: list[str] = [], column = None, other = None):\n",
    "        columns = self._columns.copy()\n",
    "        if column is None:\n",
    "            column = self.filter_column\n",
    "        def filter_function(value: str) -> bool:\n",
    "            for option in options:\n",
    "                if normalize_string(option) in normalize_string(value):\n",
    "                    return True\n",
    "            return False\n",
    "\n",
    "        if other is not None:\n",
    "            columns[other] = \"Otro\"\n",
    "        if column is None:\n",
    "            filtered_data = self._df\n",
    "        else:\n",
    "            columns[column] = \"Origen\"\n",
    "            filtered_data = self._df[self._df[column].apply(filter_function)]\n",
    "\n",
    "        #filtered_data = filtered_data.rename(columns=columns)[list(columns.values())]\n",
    "        filtered_data = filtered_data[list(columns.keys())].rename(columns=columns)\n",
    "\n",
    "        if other is None:\n",
    "            filtered_data[\"Otro\"] = \"\"\n",
    "        if column is None:\n",
    "            filtered_data[\"Origen\"] = self.sheet_name\n",
    "        filtered_data[\"Categoria\"] = category\n",
    "    \n",
    "        filtered_data = filtered_data[[\"Nombre\", \"Correo\", \"Otro\", \"Origen\", \"Categoria\"]]\n",
    "        return filtered_data\n",
    "\n",
    "class ComunicationData:\n",
    "    def __init__(self, csv_file: str) -> None:\n",
    "        self.csv_file = csv_file\n",
    "        self._columns = [\"Nombre\", \"Correo\", \"Otro\", \"Origen\", \"Categoria\"]\n",
    "\n",
    "        # Si el archivo CSV existe, cargarlo. Si no, crear un DataFrame vacío con las columnas.\n",
    "        if os.path.exists(self.csv_file):\n",
    "            self.df = pd.read_csv(self.csv_file)\n",
    "        else:\n",
    "            self.df = pd.DataFrame(columns=self._columns)\n",
    "\n",
    "    def append(self, new_data: pd.DataFrame) -> None:\n",
    "        # Verificar que el DataFrame tenga las mismas columnas\n",
    "        if list(new_data.columns) != self._columns:\n",
    "            raise ValueError(f\"Las columnas deben ser {self._columns}y son {list(new_data.columns)}\")\n",
    "\n",
    "        # Eliminar filas con valores vacíos o nulos en las columnas \"Nombre\" o \"Correo\"\n",
    "        new_data = new_data.dropna(subset=[\"Nombre\", \"Correo\"])\n",
    "\n",
    "        # Formatear: eliminar saltos de línea y espacios en blanco al inicio y al final de cada campo\n",
    "        new_data = new_data.map(lambda x: str(x).strip().replace(\"\\n\", \" \").replace(\"\\r\\n\", \"\") if isinstance(x, str) else x)\n",
    "\n",
    "        # Filtrar las filas que no tengan correos repetidos\n",
    "        existing_emails = self.df[\"Correo\"].values\n",
    "        non_duplicate_data = new_data[~new_data[\"Correo\"].isin(existing_emails)]\n",
    "\n",
    "        # Agregar las filas nuevas al DataFrame actual\n",
    "        self.df = pd.concat([self.df, non_duplicate_data], ignore_index=True)\n",
    "\n",
    "        # Guardar el DataFrame actualizado en el archivo CSV\n",
    "        self.df.to_csv(self.csv_file, index=False)\n",
    "\n",
    "    "
   ]
  },
  {
   "cell_type": "code",
   "execution_count": 5,
   "metadata": {},
   "outputs": [],
   "source": [
    "# Datos\n",
    "amigos_visibles = \"data/amigos_visibles.xlsx\"\n",
    "construccion = \"data/construccion.xlsx\"\n",
    "afrus = \"data/afrus.xlsx\"\n",
    "donaciones_av = \"data/donaciones_av.xlsx\"\n",
    "connect = \"data/connect.xlsx\"\n",
    "aliados = \"data/aliados.xlsx\"\n",
    "evenbrite = \"data/evenbrite.xlsx\"\n",
    "eag = \"data/eag.xlsx\"\n",
    "empresarios_tv = \"data/talento_visible_empresas.xlsx\"\n",
    "alta_gerencia = \"data/alta_gerencia.xlsx\"\n",
    "lidera = \"data/lidera.xlsx\"\n",
    "otros = \"data/otros.xlsx\"\n",
    "influencers = \"data/influencers.xlsx\"\n",
    "medios_comunicacion = \"data/medios_comunicacion.xlsx\"\n",
    "letras_vanguardia_medellin = \"data/letras_vanguardia_medellin.xlsx\"\n",
    "letras_vanguardia_bogota = \"data/letras_vanguardia_bogota.xlsx\"\n",
    "veni_te_leo = \"data/veni_te_leo.xlsx\"\n",
    "red_manos = \"data/red_manos.xlsx\""
   ]
  },
  {
   "cell_type": "code",
   "execution_count": 6,
   "metadata": {},
   "outputs": [],
   "source": [
    "# Bases de datos de comunicaciones\n",
    "com_proveedores = ComunicationData(\"output/proveedores.csv\")\n",
    "com_aliados = ComunicationData(\"output/aliados.csv\")\n",
    "com_amvis = ComunicationData(\"output/amigos_visibles.csv\")\n",
    "com_donantes = ComunicationData(\"output/donantes.csv\")\n",
    "com_empresarios = ComunicationData(\"output/empresarios.csv\")\n",
    "com_tutores = ComunicationData(\"output/tutores_consultores.csv\")\n",
    "com_colaboradores = ComunicationData(\"output/colaboradores.csv\")\n",
    "com_beneficiarios = ComunicationData(\"output/beneficiarios.csv\")\n",
    "com_medios_comunicacion = ComunicationData(\"output/medios_comunicacion.csv\")\n",
    "com_influencers = ComunicationData(\"output/influencers.csv\")"
   ]
  },
  {
   "cell_type": "markdown",
   "metadata": {},
   "source": [
    "## Proveedores"
   ]
  },
  {
   "cell_type": "code",
   "execution_count": 5,
   "metadata": {},
   "outputs": [],
   "source": [
    "proveedores = SheetData(amigos_visibles, \"1.PROVEEDORES\", \"Organización\", \"Correo 1\")\n",
    "com_proveedores.append(proveedores.filter(\"Proveedores\", [\"proveedor\"], \"Tipo \", \"ENCARGADO/A\"))"
   ]
  },
  {
   "cell_type": "markdown",
   "metadata": {},
   "source": [
    "## Aliados"
   ]
  },
  {
   "cell_type": "code",
   "execution_count": 6,
   "metadata": {},
   "outputs": [],
   "source": [
    "aliados1 = SheetData(aliados, \"HOJA2\", \"Nombre\", \"Correo\")\n",
    "com_aliados.append(aliados1.filter(\"Aliados\", [\"aliad\", \"soci\"], \"Tipo\", \"Entidad\"))"
   ]
  },
  {
   "cell_type": "code",
   "execution_count": 7,
   "metadata": {},
   "outputs": [],
   "source": [
    "aliados2 = SheetData(connect, \"ORG ALIADAS\", \"NOMBRE\", \"CORREO ELECTRÓNICO\")\n",
    "com_aliados.append(aliados2.filter(\"Aliados\", other=\"ORGANIZACIÓN O EMPRESA\"))"
   ]
  },
  {
   "cell_type": "code",
   "execution_count": 8,
   "metadata": {},
   "outputs": [],
   "source": [
    "aliados3 = SheetData(afrus, \"18-09-2024-Personas-24-11-2023-\", \"Nombre completo\", \"Correo electrónico\")\n",
    "com_aliados.append(aliados3.filter(\"Aliados\", [\"aliad\"], \"Campo personalizado: otro\"))"
   ]
  },
  {
   "cell_type": "code",
   "execution_count": 9,
   "metadata": {},
   "outputs": [],
   "source": [
    "aliados4 = SheetData(evenbrite, \"Sheet 1\", \"Nombre completo\", \"Correo electrónico de comprador\")\n",
    "com_aliados.append(aliados4.filter(\"Aliados\", [\"aliad\"], \"Tipo\"))"
   ]
  },
  {
   "cell_type": "code",
   "execution_count": 10,
   "metadata": {},
   "outputs": [],
   "source": [
    "aliados5 = SheetData(lidera, \"Músicos\", \"Nombre\", \"Correo\")\n",
    "com_aliados.append(aliados5.filter(\"Aliados\", other=\"Cargo\"))"
   ]
  },
  {
   "cell_type": "code",
   "execution_count": 11,
   "metadata": {},
   "outputs": [],
   "source": [
    "aliados6 = SheetData(lidera, \"Actores Actrices\", \"Nombre\", \"Correo\")\n",
    "com_aliados.append(aliados6.filter(\"Aliados\", other=\"Cargo\"))"
   ]
  },
  {
   "cell_type": "code",
   "execution_count": 12,
   "metadata": {},
   "outputs": [],
   "source": [
    "aliados7 = SheetData(lidera, \"Cine \", \"Nombre\", \"Correo\")\n",
    "com_aliados.append(aliados7.filter(\"Aliados\", other=\"Cargo\"))"
   ]
  },
  {
   "cell_type": "code",
   "execution_count": 13,
   "metadata": {},
   "outputs": [],
   "source": [
    "aliados8 = SheetData(lidera, \"Académicos\", \"Nombre\", \"Correo\")\n",
    "com_aliados.append(aliados8.filter(\"Aliados\", other=\"Cargo\"))"
   ]
  },
  {
   "cell_type": "code",
   "execution_count": 14,
   "metadata": {},
   "outputs": [],
   "source": [
    "aliados9 = SheetData(lidera, \"Artes Visuales\", \"Nombre\", \"Correo\")\n",
    "com_aliados.append(aliados9.filter(\"Aliados\", other=\"Cargo\"))"
   ]
  },
  {
   "cell_type": "code",
   "execution_count": 8,
   "metadata": {},
   "outputs": [],
   "source": [
    "aliados10 = SheetData(otros, \"Imaginarius\", \"Nombre\", \"Correo\")\n",
    "com_aliados.append(aliados10.filter(\"Aliados\", other=\"Otro\"))"
   ]
  },
  {
   "cell_type": "markdown",
   "metadata": {},
   "source": [
    "## Amigos Visibles"
   ]
  },
  {
   "cell_type": "code",
   "execution_count": 15,
   "metadata": {},
   "outputs": [],
   "source": [
    "donaciones = SheetData(donaciones_av, \"Hoja 1\", \"Nombre completo\", \"Correo electrónico\")\n",
    "com_amvis.append(donaciones.filter(\"Amigos Visibles\"))"
   ]
  },
  {
   "cell_type": "markdown",
   "metadata": {},
   "source": [
    "## Donantes"
   ]
  },
  {
   "cell_type": "code",
   "execution_count": 16,
   "metadata": {},
   "outputs": [],
   "source": [
    "donantes1 = SheetData(aliados, \"HOJA2\", \"Nombre\", \"Correo\")\n",
    "com_donantes.append(donantes1.filter(\"Donantes\", [\"donant\"], \"Tipo\", \"Entidad\"))"
   ]
  },
  {
   "cell_type": "markdown",
   "metadata": {},
   "source": [
    "## Empresarios"
   ]
  },
  {
   "cell_type": "code",
   "execution_count": 17,
   "metadata": {},
   "outputs": [],
   "source": [
    "empresarios1 = SheetData(eag, \"Participantes \", \"Nombre completo\", \"CORREO\")\n",
    "com_empresarios.append(empresarios1.filter(\"Empresarios\", [\"empresa\", \"consultor\", \"tecno\", \"banca\"], \"GRUPO\"))"
   ]
  },
  {
   "cell_type": "code",
   "execution_count": 18,
   "metadata": {},
   "outputs": [],
   "source": [
    "empresarios2 = SheetData(empresarios_tv, \"Hoja1\", \"Nombre\", \"Correo\")\n",
    "com_empresarios.append(empresarios2.filter(\"Empresarios\", other=\"Empresa\"))"
   ]
  },
  {
   "cell_type": "code",
   "execution_count": 19,
   "metadata": {},
   "outputs": [],
   "source": [
    "empresarios3 = SheetData(connect, \"ORG CONNECT\", \"NOMBRE\", \"CORREO ELECTRÓNICO\")\n",
    "com_empresarios.append(empresarios3.filter(\"Empresarios\", other=\"NOMBRE DE LA EMPRESA\"))"
   ]
  },
  {
   "cell_type": "code",
   "execution_count": 20,
   "metadata": {},
   "outputs": [],
   "source": [
    "empresarios4 = SheetData(evenbrite, \"Sheet 1\", \"Nombre completo\", \"Correo electrónico de comprador\")\n",
    "com_empresarios.append(empresarios4.filter(\"Empresarios\", [\"empresa\"], \"Tipo\"))"
   ]
  },
  {
   "cell_type": "markdown",
   "metadata": {},
   "source": [
    "## Tutores y consultores"
   ]
  },
  {
   "cell_type": "code",
   "execution_count": 21,
   "metadata": {},
   "outputs": [],
   "source": [
    "tutores1 = SheetData(amigos_visibles, \"3. TUTORES\", \"Nombre\", \"Correo 1\")\n",
    "com_tutores.append(tutores1.filter(\"Tutores y consultores\"))"
   ]
  },
  {
   "cell_type": "code",
   "execution_count": 22,
   "metadata": {},
   "outputs": [],
   "source": [
    "tutores2 = SheetData(eag, \"Base de datos de los tutores\", \"TUTOR\", \"CORREO ELECTRONICO\")\n",
    "com_tutores.append(tutores2.filter(\"Tutores y consultores\"))"
   ]
  },
  {
   "cell_type": "code",
   "execution_count": 23,
   "metadata": {},
   "outputs": [],
   "source": [
    "tutores3 = SheetData(evenbrite, \"Sheet 1\", \"Nombre completo\", \"Correo electrónico de comprador\")\n",
    "com_tutores.append(tutores3.filter(\"Tutores y consultores\", [\"tutor\", \"consultor\"], \"Tipo\"))"
   ]
  },
  {
   "cell_type": "code",
   "execution_count": 24,
   "metadata": {},
   "outputs": [],
   "source": [
    "tutores4 = SheetData(amigos_visibles, \"2. EQUIPO MV, JUNTA,ASAMBL \", \"Nombre\", \"Correo 1\")\n",
    "com_tutores.append(tutores4.filter(\"Tutores y consultores\", [\"consultor\", \"tutor\"], \"Tipo\"))"
   ]
  },
  {
   "cell_type": "markdown",
   "metadata": {},
   "source": [
    "## Colaboradores"
   ]
  },
  {
   "cell_type": "code",
   "execution_count": 25,
   "metadata": {},
   "outputs": [],
   "source": [
    "colaboradores1 = SheetData(amigos_visibles, \"2. EQUIPO MV, JUNTA,ASAMBL \", \"Nombre\", \"Correo 1\")\n",
    "com_colaboradores.append(colaboradores1.filter(\"Colaboradores\", [\"colaborador\"], \"Tipo\"))"
   ]
  },
  {
   "cell_type": "code",
   "execution_count": 26,
   "metadata": {},
   "outputs": [],
   "source": [
    "colaboradores2 = SheetData(evenbrite, \"Sheet 1\", \"Nombre completo\", \"Correo electrónico de comprador\")\n",
    "com_colaboradores.append(colaboradores2.filter(\"Colaboradores\", [\"colaborador\"], \"Tipo\"))"
   ]
  },
  {
   "cell_type": "markdown",
   "metadata": {},
   "source": [
    "## Beneficiarios"
   ]
  },
  {
   "cell_type": "code",
   "execution_count": 27,
   "metadata": {},
   "outputs": [],
   "source": [
    "beneficiarios1 = SheetData(amigos_visibles, \"4. ORGANIZACIONES MINGALAB\", \"Nombre de la organización\", \"Correo 1\")\n",
    "com_beneficiarios.append(beneficiarios1.filter(\"Beneficiarios\", other=\"Nombre del contacto\"))"
   ]
  },
  {
   "cell_type": "code",
   "execution_count": 28,
   "metadata": {},
   "outputs": [],
   "source": [
    "beneficiarios2 = SheetData(amigos_visibles, \"4. PODER PACÍFICO\", \"Nombre\", \"Correo 1\")\n",
    "com_beneficiarios.append(beneficiarios2.filter(\"Beneficiarios\", other=\"Tipo\"))"
   ]
  },
  {
   "cell_type": "code",
   "execution_count": 29,
   "metadata": {},
   "outputs": [],
   "source": [
    "beneficiarios3 = SheetData(amigos_visibles, \"5. POT ÉTNICA MDP, CE,MBA,MERC\", \"Nombre\", \"Correo 1\")\n",
    "com_beneficiarios.append(beneficiarios3.filter(\"Beneficiarios\", other=\"Tipo \"))"
   ]
  },
  {
   "cell_type": "code",
   "execution_count": 30,
   "metadata": {},
   "outputs": [],
   "source": [
    "beneficiarios4 = SheetData(amigos_visibles, \"6. FJCP I Y II\", \"Nombre\", \"Correo 1\")\n",
    "com_beneficiarios.append(beneficiarios4.filter(\"Beneficiarios\", other=\"Tipo \"))"
   ]
  },
  {
   "cell_type": "code",
   "execution_count": 31,
   "metadata": {},
   "outputs": [],
   "source": [
    "beneficiarios5 = SheetData(amigos_visibles, \"6. MIT\", \"Nombre\", \"Correo 1\")\n",
    "com_beneficiarios.append(beneficiarios5.filter(\"Beneficiarios\", other=\"Tipo \"))"
   ]
  },
  {
   "cell_type": "code",
   "execution_count": 32,
   "metadata": {},
   "outputs": [],
   "source": [
    "beneficiarios6 = SheetData(amigos_visibles, \"6. ESCUELA SALUD PUB\", \"Nombre\", \"Correo 1\")\n",
    "com_beneficiarios.append(beneficiarios6.filter(\"Beneficiarios\"))"
   ]
  },
  {
   "cell_type": "code",
   "execution_count": 33,
   "metadata": {},
   "outputs": [],
   "source": [
    "beneficiarios7 = SheetData(amigos_visibles, \"8. FOCO\", \"Nombre\", \"Correo 1\")\n",
    "com_beneficiarios.append(beneficiarios7.filter(\"Beneficiarios\", other=\"Tipo \"))"
   ]
  },
  {
   "cell_type": "code",
   "execution_count": 34,
   "metadata": {},
   "outputs": [],
   "source": [
    "beneficiarios8 = SheetData(evenbrite, \"Sheet 1\", \"Nombre completo\", \"Correo electrónico de comprador\")\n",
    "com_beneficiarios.append(beneficiarios8.filter(\"Beneficiarios\", [\"benefici\"], \"Tipo\"))"
   ]
  },
  {
   "cell_type": "code",
   "execution_count": 35,
   "metadata": {},
   "outputs": [
    {
     "name": "stderr",
     "output_type": "stream",
     "text": [
      "c:\\Users\\Josue\\Desktop\\FVDN_DB\\venv\\Lib\\site-packages\\openpyxl\\worksheet\\_reader.py:329: UserWarning: Data Validation extension is not supported and will be removed\n",
      "  warn(msg)\n"
     ]
    }
   ],
   "source": [
    "beneficiarios9 = SheetData(alta_gerencia, \"PARTICIPANTES ESC. ALTA GERENCI\", \"NOMBRES Y APELLIDOS DEL/LA PARTICIPANTE\", \"CORREO ELECTRÓNICO DEL/LA PARTICIPANTE\")\n",
    "com_beneficiarios.append(beneficiarios9.filter(\"Beneficiarios\"))"
   ]
  },
  {
   "cell_type": "code",
   "execution_count": 36,
   "metadata": {},
   "outputs": [],
   "source": [
    "beneficiarios10 = SheetData(lidera, \"Danza\", \"Nombre\", \"Correo\")\n",
    "com_beneficiarios.append(beneficiarios10.filter(\"Beneficiarios\", other=\"Cargo\"))"
   ]
  },
  {
   "cell_type": "code",
   "execution_count": 37,
   "metadata": {},
   "outputs": [
    {
     "name": "stderr",
     "output_type": "stream",
     "text": [
      "c:\\Users\\Josue\\Desktop\\FVDN_DB\\venv\\Lib\\site-packages\\openpyxl\\worksheet\\_reader.py:223: UserWarning: Cell E631 is marked as a date but the serial value 3117527666 is outside the limits for dates. The cell will be treated as an error.\n",
      "  warn(msg)\n"
     ]
    }
   ],
   "source": [
    "beneficiarios11 = SheetData(amigos_visibles, \"7. DALE \", \"Nombre\", \"Correo 1\")\n",
    "com_beneficiarios.append(beneficiarios11.filter(\"Beneficiarios\", other=\"Tipo \"))"
   ]
  },
  {
   "cell_type": "code",
   "execution_count": 38,
   "metadata": {},
   "outputs": [],
   "source": [
    "beneficiarios12 = SheetData(amigos_visibles, \"7. MUJERES LIDERES CARTAGENA\", \"Nombre\", \"Correo 1\")\n",
    "com_beneficiarios.append(beneficiarios12.filter(\"Beneficiarios\", other=\"Tipo \"))"
   ]
  },
  {
   "cell_type": "code",
   "execution_count": 39,
   "metadata": {},
   "outputs": [
    {
     "name": "stderr",
     "output_type": "stream",
     "text": [
      "c:\\Users\\Josue\\Desktop\\FVDN_DB\\venv\\Lib\\site-packages\\openpyxl\\worksheet\\_reader.py:329: UserWarning: Data Validation extension is not supported and will be removed\n",
      "  warn(msg)\n"
     ]
    }
   ],
   "source": [
    "beneficiarios13 = SheetData(amigos_visibles, \"8. POTENCIA ÉTNICA AUDIOVISUAL\", \"Nombre\", \"Correo 1\")\n",
    "com_beneficiarios.append(beneficiarios13.filter(\"Beneficiarios\", other=\"Tipo de potenciales Amigos\"))"
   ]
  },
  {
   "cell_type": "code",
   "execution_count": 40,
   "metadata": {},
   "outputs": [],
   "source": [
    "beneficiarios14 = SheetData(amigos_visibles, \"8. PMB\", \"Nombre\", \"Correo 1\")\n",
    "com_beneficiarios.append(beneficiarios14.filter(\"Beneficiarios\", other=\"Tipo \"))"
   ]
  },
  {
   "cell_type": "code",
   "execution_count": 41,
   "metadata": {},
   "outputs": [],
   "source": [
    "beneficiarios15 = SheetData(amigos_visibles, \"8. FOCO\", \"Nombre\", \"Correo 1\")\n",
    "com_beneficiarios.append(beneficiarios15.filter(\"Beneficiarios\", other=\"Tipo \"))"
   ]
  },
  {
   "cell_type": "code",
   "execution_count": 7,
   "metadata": {},
   "outputs": [],
   "source": [
    "beneficiarios16 = SheetData(letras_vanguardia_medellin, \"BASE LETRAS DE VANGUARDIA\", \"Nombre\", \"CORREO ELECTRÓNICO DEL/LA PARTICIPANTE\")\n",
    "com_beneficiarios.append(beneficiarios16.filter(\"Beneficiarios\", other=\"NOMBRE DEL TITULO OBTENIDO\"))"
   ]
  },
  {
   "cell_type": "code",
   "execution_count": 8,
   "metadata": {},
   "outputs": [
    {
     "name": "stderr",
     "output_type": "stream",
     "text": [
      "c:\\Users\\Josue\\Documents\\Trabajo\\Manos Visibles\\FVDN_DB\\venv\\Lib\\site-packages\\openpyxl\\worksheet\\_reader.py:329: UserWarning: Data Validation extension is not supported and will be removed\n",
      "  warn(msg)\n"
     ]
    }
   ],
   "source": [
    "beneficiarios17 = SheetData(veni_te_leo, \"PARTICIPANTES ESCUELA VEC\", \"NOMBRES\", \"CORREO ELECTRÓNICO DEL/LA PARTICIPANTE\")\n",
    "com_beneficiarios.append(beneficiarios17.filter(\"Beneficiarios\", other=\"NOMBRE DEL TITULO OBTENIDO\"))"
   ]
  },
  {
   "cell_type": "code",
   "execution_count": 9,
   "metadata": {},
   "outputs": [
    {
     "name": "stderr",
     "output_type": "stream",
     "text": [
      "c:\\Users\\Josue\\Documents\\Trabajo\\Manos Visibles\\FVDN_DB\\venv\\Lib\\site-packages\\openpyxl\\worksheet\\_reader.py:329: UserWarning: Data Validation extension is not supported and will be removed\n",
      "  warn(msg)\n"
     ]
    }
   ],
   "source": [
    "beneficiarios18 = SheetData(letras_vanguardia_bogota, \"PARTICIPANTES ESCUELA VEC\", \"Nombre\", \"CORREO ELECTRÓNICO DEL/LA PARTICIPANTE\")\n",
    "com_beneficiarios.append(beneficiarios18.filter(\"Beneficiarios\"))"
   ]
  },
  {
   "cell_type": "code",
   "execution_count": 10,
   "metadata": {},
   "outputs": [],
   "source": [
    "beneficiarios19 = SheetData(red_manos, \"BASE COMUNICACIONES PRELIMI (2)\", \"Nombre completo\", \"Correo Electrónico\")\n",
    "com_beneficiarios.append(beneficiarios19.filter(\"Beneficiarios\", other=\"CONVOCATORIA\"))"
   ]
  },
  {
   "cell_type": "markdown",
   "metadata": {},
   "source": [
    "## Medios de comunicación"
   ]
  },
  {
   "cell_type": "code",
   "execution_count": 11,
   "metadata": {},
   "outputs": [],
   "source": [
    "medios1 = SheetData(medios_comunicacion, \"Directores y Periodistas \", \"NOMBRE\", \"DIRECCION\")\n",
    "com_medios_comunicacion.append(medios1.filter(\"Medios de comunicación\", other=\"MEDIO\"))"
   ]
  },
  {
   "cell_type": "code",
   "execution_count": 12,
   "metadata": {},
   "outputs": [],
   "source": [
    "medios2 = SheetData(influencers, \"Periodistas\", \"Nombre\", \"Correo\")\n",
    "com_medios_comunicacion.append(medios2.filter(\"Medios de comunicación\", other=\"Cargo\"))"
   ]
  },
  {
   "cell_type": "markdown",
   "metadata": {},
   "source": [
    "## Influencers"
   ]
  },
  {
   "cell_type": "code",
   "execution_count": null,
   "metadata": {},
   "outputs": [],
   "source": [
    "influencers1 = SheetData(influencers, \"\")"
   ]
  },
  {
   "cell_type": "markdown",
   "metadata": {},
   "source": [
    "# Unir archivos y eliminar duplicados"
   ]
  },
  {
   "cell_type": "code",
   "execution_count": 11,
   "metadata": {},
   "outputs": [],
   "source": [
    "def merge_data(files: list, output_file: str, ignore_emails: list = None) -> None:\n",
    "    if ignore_emails is None:\n",
    "        ignore_emails = []\n",
    "\n",
    "    all_data = pd.DataFrame(columns=[\"Nombre\", \"Correo\", \"Otro\", \"Origen\", \"Categoria\"])\n",
    "\n",
    "    # Leer y procesar cada archivo CSV\n",
    "    for file in files:\n",
    "        # Leer el archivo CSV\n",
    "        df = pd.read_csv(file)\n",
    "\n",
    "        # Asegurar que el correo sea en minúsculas y el nombre en mayúsculas\n",
    "        df[\"Correo\"] = df[\"Correo\"].str.lower()\n",
    "        df[\"Nombre\"] = df[\"Nombre\"].str.upper()\n",
    "\n",
    "        # Filtrar solo los correos que son válidos (contienen @) y no están en la lista de correos a ignorar\n",
    "        df = df[df[\"Correo\"].str.contains(\"@\", na=False) & ~df[\"Correo\"].isin(ignore_emails)]\n",
    "\n",
    "        # Concatenar con el DataFrame acumulado\n",
    "        all_data = pd.concat([all_data, df], ignore_index=True)\n",
    "\n",
    "    # Eliminar duplicados basados en la columna \"Correo\"\n",
    "    unique_data = all_data.drop_duplicates(subset=[\"Correo\"])\n",
    "\n",
    "    # Guardar el resultado en un archivo CSV\n",
    "    unique_data.to_csv(output_file, index=False)\n"
   ]
  },
  {
   "cell_type": "code",
   "execution_count": 12,
   "metadata": {},
   "outputs": [],
   "source": [
    "input_files = [\n",
    "    \"donantes.csv\",\n",
    "    \"amigos_visibles.csv\",\n",
    "    \"empresarios.csv\",\n",
    "    \"proveedores.csv\",\n",
    "    \"aliados.csv\",\n",
    "    \"tutores_consultores.csv\",\n",
    "    \"colaboradores.csv\",\n",
    "    \"beneficiarios.csv\",\n",
    "    \"medios_comunicacion.csv\"\n",
    "]\n",
    "\n",
    "ignore_emails = [\n",
    "    \"tecnologia@manosvisibles.org\",\n",
    "    \"proyectos@manosvisibles.org\",\n",
    "    \"convocatoria@manosvisibles.org\",\n",
    "    \"convocatorias@manosvisibles.org\",\n",
    "    \"legal@manosvisibles.org\",\n",
    "    \"pmz@manosvisibles.org\",\n",
    "    \"marlasso70@hotmail.com\",\n",
    "    \"ricardoolmostorres@hotmail.com\",\n",
    "    \"hectorhvo51@hotmail.com\",\n",
    "    \"hochi_ming@hotmail.com\",\n",
    "    \"Gracielaselaimen@gmail.com\",\n",
    "    \"Felipe.viveros.m@gmail.com\",\n",
    "    \"ml.arroyo1569@uniandes.edu.co\",\n",
    "    \"ravila@eltiempo.com\",\n",
    "\n",
    "    \"antiguo - @univalle.edu.co\",\n",
    "],\n",
    "\n",
    "ignore_names = [\n",
    "    \"SALOMON DIAZ\",\n",
    "    \"ALEJANDRA TABORDA MENA\",\n",
    "    \"YEIMAR ANDRÉS RIVAS CABRERA\",\n",
    "    \"NICOL JHOANA GARCES PLAZAS\",\n",
    "    \"SARAY DANIELA VIVAS QUIÑONES\",\n",
    "    \"JENNY VIVIANA ARBOLEDA GRUESO\",\n",
    "    \"ÁNGELA MARÍA PARRA RIVERA\",\n",
    "    \"MARIO  ANGULO  SANCLEMENTE\",\n",
    "    \"MARIA CAMILA HURTADO MURILLO\",\n",
    "    \"JEAN EDUARD CAICEDO ZAMORA\",\n",
    "    \"YEINI VANESSA RIASCOS MONTOYA\",\n",
    "    \"CLAUDIA YOHANA CUERO VALENCIA\"\n",
    "]\n",
    "\n",
    "problematics = [\n",
    "    \"LAURA VICTORIA CAICEDO LASSO\",\n",
    "    \"UNIVERSIDAD DE LOS ANDES\",\n",
    "    \"VILLALON ENTRETENIMIENTO CREATIVO SAS\",\n",
    "    \"ALEXIS PLAY\",\n",
    "    \"KOMBILESA MI ANDRIS PADILLA / KEILA REGINA MIRANDA\",\n",
    "    \"VINCE BALANTA\",\n",
    "    \"MARTHA LUCÍA HERNÁNDEZ GARCÍA\",\n",
    "    \"NATHALIA GIRALDO DIEZ\",\n",
    "    \"ANGELICA MAYOLO ROGER MINA\",\n",
    "    \"NEGRITA FILMS SAS\",\n",
    "    \"PONTIFICA UNIVERSIDAD JAVERIANA\",\n",
    "    \"RACHER JANE MINA\",\n",
    "    \"JOSE ALEXANDER QUIÑONES CUERO\",\n",
    "    \"LAURA VICTORIA CAICEDO LASSO\",\n",
    "    \"VÍCTOR GUILLERMO CORTES RODRIGUEZ\",\n",
    "    \"DIANA CAROLINA FUENTES RAMOS\",\n",
    "    \"INDIANA PRADO TORRES\",\n",
    "    \"KATHERINE MENA CASTRO\",\n",
    "    \"LILIANA OCORO\",\n",
    "    \"ALBERT MAURICIO MENA CHAVERRA\",\n",
    "    \"MARIANGELES VENTE REBOLLEDO\",\n",
    "    \"LIVIS ANDRES ALFONSO MINA\",\n",
    "    \"YAIR ALFONZO CABESA HUILA\",\n",
    "    \"SOLAY AMPARO GONZÁLEZ ANGULO\",\n",
    "    \"MARIEN BONILLA PRECIADO\",\n",
    "    \"EDUARDO ENRIQUE HALABY RENGIFO\",\n",
    "    \"MARÍA ANGELA HURTADO VIAFARA\",\n",
    "    \"PEDRO LUIS GUTIÉRREZ GONZÁLEZ\",\n",
    "    \"RAMON CUESTA VALENCIA\",\n",
    "    \"YAIRTON LLOREDA CASTRO\",\n",
    "    \"PRESBÍTERO  HÉCTOR FERNEY VERGARA\",\n",
    "    \"EDWAR MENA ROMAÑA\",\n",
    "    \"HEMIRO BORJA PALACIOS\",\n",
    "    \"DAFNY AMADEO PALACIOS MENA\",\n",
    "    \"STELLA ROCIO RAMIREZ\",\n",
    "    \"MILEIDY VANESA ARROYO CHAVERRA\",\n",
    "    \"JONATHAN JOEL BANGUERA CORTES\",\n",
    "    \"NELLY PEÑARANDA\",\n",
    "    \"ANDRÉS LOPÉZ LÓPEZ\",\n",
    "    \"FRANK SOLANO\",\n",
    "    \"CIRO HERNÁNDEZ\",\n",
    "    \"ANDRÉS MARÍN MARTÍNEZ\",\n",
    "    \"ALFONSO OSPINA\",\n",
    "    \"IGNACIO GREIFFENTEIN\",\n",
    "    \"JOSÉ LUIS GARCÍA\",\n",
    "    \"JORGE ESPINOSA\",\n",
    "    \"JUAN CARLOS IRAGORRI\",\n",
    "    \"MARIO JURSICH DURÁN\",\n",
    "    \"JORGE LESMES MOGOLLÓN\",\n",
    "    \"FREDY BOHORQUEZ\",\n",
    "    \"RICHARD EMLIN\",\n",
    "    \"INDALESIO CASTELLANOS\",\n",
    "    \"YOLANDA RUÍZ\",\n",
    "    \"MARÍA ISABEL RUEDA\",\n",
    "    \"ALEX ALDANA\",\n",
    "    \"RICARDO BERMÚDEZ\",\n",
    "    \"QUACK DE COLOMBIA S.A.S\",\n",
    "    \"UNIDAD INDÍGENA DEL PUEBLO AWÁ “UNIPA”\",\n",
    "    \"JORGE ELIECER SERNA AGUDELO\",\n",
    "    \"MANUEL FRANCISCO VIVEROS\",\n",
    "    \"DIANA FERNANDA RIASCOS SALAZAR\",\n",
    "    \"ANGIE ELISABETH CLEVEL MONTAÑO\",\n",
    "    \"TAMARA LORETTA RENTERÍA CAICEDO\",\n",
    "    \"ANDRÉS FABIÁN HURTADO GUERRERO\",\n",
    "    \"ANDRÉS MAURICIO ACOSTA\",\n",
    "    \"JHOANNA VALOYES /YADIRA RIVERA NAUFFAL\",\n",
    "    \"LINA MARÍA CORREA MOLINA\",\n",
    "    \"DANIER DARIO DIAZ PALACIOS\",\n",
    "    \"MARTHA LUCÍA GARCÍA CUÉLLAR\",\n",
    "    \"JUANY ANDREA RENTERIA RAMIREZ\",\n",
    "    \"ANA JIMENA VALENCIA PRECIADO\",\n",
    "    \"WILLIAN CUESTA IBARGUEN\",\n",
    "    \"RODRIGO ACEVEDO\",\n",
    "    \"JUAN CAMILO AMAR CABRERA\",\n",
    "    \"FRANCISCO JAVIER FLOREZ BOLIVAR\",\n",
    "    \"LAURA SOFÍA MICOLTA REYES\",\n",
    "    \"MAVIL LISETH CABRERA MOSQUERA\",\n",
    "    \"MIGUEL ÁNGEL GARCIA SÁNCHEZ\",\n",
    "    \"KELLY HURTADO GAMBOA\",\n",
    "    \"WIL MER HERIBERTO ORJUELA VALENCIA\",\n",
    "    \"GLORIA ISABEL MONCAYO GONGORA\",\n",
    "    \"TORRES RIOS YAILY KARINA\",\n",
    "    \"LUIS CARLOS MARÏN GUANGA\",\n",
    "    \"LUCY VALENTINA HERRERA RENTERÍA\",\n",
    "    \"BRENDA YULIETH AMU ROJAS\",\n",
    "    \"YILMAR MARTÍNEZ\"\n",
    "]\n",
    "\n",
    "input_files = [f\"output/{f}\" for f in input_files]\n",
    "merge_data(input_files, \"datos_combinados.csv\", ignore_emails=ignore_emails)"
   ]
  },
  {
   "cell_type": "markdown",
   "metadata": {},
   "source": [
    "# Normalizar nombres"
   ]
  },
  {
   "cell_type": "code",
   "execution_count": 1,
   "metadata": {},
   "outputs": [],
   "source": [
    "import csv\n",
    "import unicodedata\n",
    "import re\n",
    "\n",
    "def normalize_column(input_csv, output_csv, column_name):\n",
    "    def normalize_text(text):\n",
    "        # Eliminar acentos y caracteres especiales\n",
    "        text = unicodedata.normalize('NFD', text)\n",
    "        text = text.encode('ascii', 'ignore').decode('utf-8')\n",
    "        # Eliminar caracteres que no sean letras o espacios\n",
    "        text = re.sub(r'[^a-zA-Z\\s]', '', text)\n",
    "        # Eliminar espacios de más\n",
    "        text = re.sub(r'\\s+', ' ', text).strip()\n",
    "        return text\n",
    "\n",
    "    with open(input_csv, mode='r', newline='', encoding='utf-8') as infile, \\\n",
    "         open(output_csv, mode='w', newline='', encoding='utf-8') as outfile:\n",
    "\n",
    "        reader = csv.DictReader(infile)\n",
    "        fieldnames = reader.fieldnames\n",
    "        writer = csv.DictWriter(outfile, fieldnames=fieldnames)\n",
    "        writer.writeheader()\n",
    "\n",
    "        for row in reader:\n",
    "            row[column_name] = normalize_text(row[column_name])\n",
    "            writer.writerow(row)\n",
    "\n",
    "normalize_column(\"beneficiarios.csv\", \"Base Beneficiarios.csv\", \"Nombre\")"
   ]
  }
 ],
 "metadata": {
  "kernelspec": {
   "display_name": "venv",
   "language": "python",
   "name": "python3"
  },
  "language_info": {
   "codemirror_mode": {
    "name": "ipython",
    "version": 3
   },
   "file_extension": ".py",
   "mimetype": "text/x-python",
   "name": "python",
   "nbconvert_exporter": "python",
   "pygments_lexer": "ipython3",
   "version": "3.12.7"
  }
 },
 "nbformat": 4,
 "nbformat_minor": 2
}
